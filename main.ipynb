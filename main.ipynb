{
 "cells": [
  {
   "cell_type": "markdown",
   "metadata": {},
   "source": [
    "# Variables\n",
    "\n"
   ]
  },
  {
   "cell_type": "code",
   "execution_count": 4,
   "metadata": {},
   "outputs": [
    {
     "name": "stdout",
     "output_type": "stream",
     "text": [
      "n = 0\n",
      "n = abc\n"
     ]
    }
   ],
   "source": [
    "# Variables are dynamically typed. \n",
    "n = 0\n",
    "print('n =', n)\n",
    "\n",
    "n = \"abc\"\n",
    "print('n =', n)"
   ]
  },
  {
   "cell_type": "code",
   "execution_count": null,
   "metadata": {},
   "outputs": [],
   "source": [
    "# Multiple assignments. \n",
    "\n",
    "n, m = 0, \"abc\"\n",
    "\n",
    "n, m, z = 0.125, \"abc\", False\n",
    "\n",
    "# Increment\n",
    "\n",
    "n = n + 1\n",
    "n += 1\n",
    "n++ 3 bad"
   ]
  },
  {
   "cell_type": "code",
   "execution_count": null,
   "metadata": {},
   "outputs": [
    {
     "name": "stdout",
     "output_type": "stream",
     "text": [
      "n = None\n"
     ]
    }
   ],
   "source": [
    "# None is null (absence of value)\n",
    "\n",
    "n = 4\n",
    "n = None\n",
    "print(\"n =\", n)"
   ]
  },
  {
   "cell_type": "markdown",
   "metadata": {},
   "source": [
    "# If-statements\n",
    "\n"
   ]
  },
  {
   "cell_type": "code",
   "execution_count": null,
   "metadata": {},
   "outputs": [],
   "source": [
    "# If-statements don't need parentheses\n",
    "# or curly braces. \n",
    "\n",
    "n = 1\n",
    "if n > 2:\n",
    "    n -= 1\n",
    "elif n == 2:\n",
    "    n *= 2\n",
    "else:\n",
    "    n += 2"
   ]
  },
  {
   "cell_type": "code",
   "execution_count": 3,
   "metadata": {},
   "outputs": [],
   "source": [
    "# Parentheses needed for multi-line conditions. \n",
    "# and = &&\n",
    "# or = ||\n",
    "\n",
    "n, m = 1, 2\n",
    "if ((n > 2 and\n",
    "    n != m )or n == m):\n",
    "    n += 1\n"
   ]
  },
  {
   "cell_type": "markdown",
   "metadata": {},
   "source": [
    "# Loops \n",
    "\n"
   ]
  },
  {
   "cell_type": "code",
   "execution_count": 4,
   "metadata": {},
   "outputs": [
    {
     "name": "stdout",
     "output_type": "stream",
     "text": [
      "0\n",
      "1\n",
      "2\n",
      "3\n",
      "4\n"
     ]
    }
   ],
   "source": [
    "# while loops are similar\n",
    "\n",
    "n = 0\n",
    "while n < 5:\n",
    "    print(n)\n",
    "    n += 1"
   ]
  },
  {
   "cell_type": "code",
   "execution_count": 6,
   "metadata": {},
   "outputs": [
    {
     "name": "stdout",
     "output_type": "stream",
     "text": [
      "0\n",
      "1\n",
      "2\n",
      "3\n",
      "4\n"
     ]
    }
   ],
   "source": [
    "# Looping from i = 0 to i = 4\n",
    "\n",
    "for i in range(5):\n",
    "    print(i)\n"
   ]
  },
  {
   "cell_type": "code",
   "execution_count": 7,
   "metadata": {},
   "outputs": [
    {
     "name": "stdout",
     "output_type": "stream",
     "text": [
      "2\n",
      "3\n",
      "4\n",
      "5\n"
     ]
    }
   ],
   "source": [
    "# Looping from i = 2 to i = 5\n",
    "for i in range(2, 6):\n",
    "    print(i)"
   ]
  },
  {
   "cell_type": "code",
   "execution_count": 8,
   "metadata": {},
   "outputs": [
    {
     "name": "stdout",
     "output_type": "stream",
     "text": [
      "5\n",
      "4\n",
      "3\n",
      "2\n"
     ]
    }
   ],
   "source": [
    "# Looping from i = 5 to i = 2\n",
    "for i in range (5, 1, -1): # decrementing the (i)\n",
    "    print(i)"
   ]
  },
  {
   "cell_type": "markdown",
   "metadata": {},
   "source": [
    "# Math\n",
    "\n"
   ]
  },
  {
   "cell_type": "code",
   "execution_count": null,
   "metadata": {},
   "outputs": [
    {
     "name": "stdout",
     "output_type": "stream",
     "text": [
      "2.5\n",
      "2\n",
      "-2\n",
      "-1\n"
     ]
    }
   ],
   "source": [
    "# Division is decimal by default.\n",
    "print(5 / 2)\n",
    "\n",
    "# Double slash rounds down\n",
    "print(5 // 2)\n",
    "\n",
    "# most languages round towards 0 by\n",
    "# default so negative numbers will round down\n",
    "print(-3 // 2)\n",
    "\n",
    "# A workaround for rounding towards zero is to \n",
    "# use decimal division and then convert to int. \n",
    "print(int(-3 / 2))"
   ]
  },
  {
   "cell_type": "code",
   "execution_count": null,
   "metadata": {},
   "outputs": [
    {
     "name": "stdout",
     "output_type": "stream",
     "text": [
      "1\n",
      "2\n"
     ]
    }
   ],
   "source": [
    "# Modding is similar to most languages\n",
    "print(10 % 3)\n",
    "\n",
    "# Except for negative values\n",
    "print(-10 % 3)\n"
   ]
  },
  {
   "cell_type": "code",
   "execution_count": null,
   "metadata": {},
   "outputs": [
    {
     "name": "stdout",
     "output_type": "stream",
     "text": [
      "-1.0\n"
     ]
    }
   ],
   "source": [
    "# To be consistent with other languages modulo\n",
    "import math\n",
    "print(math.fmod(-10, 3))"
   ]
  },
  {
   "cell_type": "code",
   "execution_count": 5,
   "metadata": {},
   "outputs": [
    {
     "name": "stdout",
     "output_type": "stream",
     "text": [
      "1\n",
      "2\n",
      "1.4142135623730951\n",
      "8.0\n"
     ]
    }
   ],
   "source": [
    "import math\n",
    "\n",
    "# More math helpers\n",
    "print(math.floor(3/2))\n",
    "print(math.ceil(3 / 2))\n",
    "print(math.sqrt(2))\n",
    "print(math.pow(2, 3))"
   ]
  },
  {
   "cell_type": "code",
   "execution_count": 8,
   "metadata": {},
   "outputs": [
    {
     "name": "stdout",
     "output_type": "stream",
     "text": [
      "1.6069380442589903e+60\n",
      "True\n"
     ]
    }
   ],
   "source": [
    "# Max/ Min Int\n",
    "float(\"inf\")\n",
    "float(\"-inf\")\n",
    "\n",
    "# Python numbers are infinite so they never overflow\n",
    "import math\n",
    "print(math.pow(2, 200))\n",
    "\n",
    "# But still less than infinity\n",
    "print(math.pow(2, 200) < float(\"inf\"))"
   ]
  },
  {
   "cell_type": "markdown",
   "metadata": {},
   "source": [
    "# Arrays\n",
    "\n",
    "(called list in python)"
   ]
  },
  {
   "cell_type": "code",
   "execution_count": 9,
   "metadata": {},
   "outputs": [
    {
     "name": "stdout",
     "output_type": "stream",
     "text": [
      "[1, 2, 3]\n"
     ]
    }
   ],
   "source": [
    "arr = [1, 2, 3]\n",
    "print(arr)"
   ]
  },
  {
   "cell_type": "code",
   "execution_count": 14,
   "metadata": {},
   "outputs": [
    {
     "name": "stdout",
     "output_type": "stream",
     "text": [
      "[1, 2, 3]\n",
      "[1, 2, 3, 4, 5]\n",
      "[1, 2, 3, 4]\n",
      "[1, 7, 2, 3, 4]\n",
      "[0, 7, 2, 0, 4]\n"
     ]
    }
   ],
   "source": [
    "arr = [1, 2, 3]\n",
    "print(arr)\n",
    "\n",
    "# Can be used as a stack\n",
    "# Dynamic arrays can be used as stack\n",
    "arr.append(4)\n",
    "arr.append(5)\n",
    "print(arr)\n",
    "\n",
    "arr.pop()\n",
    "print(arr)\n",
    "\n",
    "arr.insert(1, 7)\n",
    "print(arr)\n",
    "\n",
    "arr[0] = 0\n",
    "arr[3] = 0\n",
    "print(arr)\n",
    "\n"
   ]
  },
  {
   "cell_type": "code",
   "execution_count": null,
   "metadata": {},
   "outputs": [
    {
     "name": "stdout",
     "output_type": "stream",
     "text": [
      "[1, 1, 1, 1, 1]\n",
      "5\n"
     ]
    }
   ],
   "source": [
    "# Initialize arr of size n with default value of 1\n",
    "n = 5\n",
    "arr = [1] * n\n",
    "print(arr)\n",
    "print(len(arr))"
   ]
  },
  {
   "cell_type": "code",
   "execution_count": 20,
   "metadata": {},
   "outputs": [
    {
     "name": "stdout",
     "output_type": "stream",
     "text": [
      "3\n",
      "2\n"
     ]
    }
   ],
   "source": [
    "# Carefuk: -1 is not out of bounds,\n",
    "# it's the last value\n",
    "arr= [1, 2, 3]\n",
    "print(arr[-1])\n",
    "\n",
    "# Indexing -2 is the second last value, etc\n",
    "print(arr[-2])\n",
    " \n"
   ]
  },
  {
   "cell_type": "code",
   "execution_count": null,
   "metadata": {},
   "outputs": [
    {
     "name": "stdout",
     "output_type": "stream",
     "text": [
      "[2, 3]\n",
      "[1, 2, 3, 4]\n"
     ]
    }
   ],
   "source": [
    "# Sublists (slicing)\n",
    "arr = [1, 2, 3, 4]\n",
    "print(arr[1:3])\n",
    "\n",
    "# Similar to for-loop ranges, last index is\n",
    "# non-inclusive\n",
    "print(arr[0:4])\n"
   ]
  },
  {
   "cell_type": "code",
   "execution_count": 23,
   "metadata": {},
   "outputs": [
    {
     "name": "stdout",
     "output_type": "stream",
     "text": [
      "1 2 3\n"
     ]
    }
   ],
   "source": [
    "# Unpacking\n",
    "a, b, c = [1, 2, 3]\n",
    "print(a, b, c)"
   ]
  },
  {
   "cell_type": "code",
   "execution_count": null,
   "metadata": {},
   "outputs": [],
   "source": [
    "# Be careful though\n",
    "a, b = [1, 2, 3]\n"
   ]
  },
  {
   "cell_type": "code",
   "execution_count": 26,
   "metadata": {},
   "outputs": [
    {
     "name": "stdout",
     "output_type": "stream",
     "text": [
      "1\n",
      "2\n",
      "3\n",
      "1\n",
      "2\n",
      "3\n",
      "0 1\n",
      "1 2\n",
      "2 3\n"
     ]
    }
   ],
   "source": [
    "# Loop through arrays\n",
    "nums = [1, 2, 3]\n",
    "\n",
    "# Using index\n",
    "for i in range(len(nums)):\n",
    "    print(nums[i])\n",
    "\n",
    "# Without index\n",
    "for n in nums:\n",
    "    print(n)\n",
    "\n",
    "# With index and value\n",
    "for i, n in enumerate(nums):\n",
    "    print(i, n)\n",
    "    \n"
   ]
  },
  {
   "cell_type": "code",
   "execution_count": 27,
   "metadata": {},
   "outputs": [
    {
     "name": "stdout",
     "output_type": "stream",
     "text": [
      "1 2\n",
      "3 4\n",
      "5 6\n"
     ]
    }
   ],
   "source": [
    " # Loop through multiple arrays simultaneously\n",
    "# with unpacking\n",
    "\n",
    "nums1 = [1, 3, 5]\n",
    "nums2 = [2, 4, 6]\n",
    "for n1, n2 in zip(nums1, nums2):\n",
    "    print(n1, n2)\n",
    "    "
   ]
  },
  {
   "cell_type": "code",
   "execution_count": 28,
   "metadata": {},
   "outputs": [
    {
     "name": "stdout",
     "output_type": "stream",
     "text": [
      "[3, 2, 1]\n"
     ]
    }
   ],
   "source": [
    "# Reverse\n",
    "nums = [1, 2, 3]\n",
    "nums.reverse()\n",
    "print(nums)\n"
   ]
  },
  {
   "cell_type": "code",
   "execution_count": null,
   "metadata": {},
   "outputs": [
    {
     "name": "stdout",
     "output_type": "stream",
     "text": [
      "[2, 4, 5, 7, 8, 9]\n",
      "[9, 8, 7, 5, 4, 2]\n"
     ]
    }
   ],
   "source": [
    "# Sorting\n",
    "arr = [5, 4, 7, 8, 9, 2]\n",
    "arr.sort()\n",
    "print(arr) # Sorts it ascending order by default\n",
    "\n",
    "arr.sort(reverse=True)\n",
    "print(arr) # Sorts in descending order"
   ]
  },
  {
   "cell_type": "code",
   "execution_count": 36,
   "metadata": {},
   "outputs": [
    {
     "name": "stdout",
     "output_type": "stream",
     "text": [
      "['alex', 'bob', 'doe', 'jane']\n",
      "['bob', 'doe', 'alex', 'jane']\n"
     ]
    }
   ],
   "source": [
    "arr = ['alex', 'jane', 'bob', 'doe']\n",
    "arr.sort()\n",
    "print(arr)\n",
    "\n",
    "# Custom sort (by length of string)\n",
    "arr.sort(key=lambda x: len(x))\n",
    "print(arr)\n",
    "\n",
    "\n"
   ]
  },
  {
   "cell_type": "code",
   "execution_count": 47,
   "metadata": {},
   "outputs": [
    {
     "name": "stdout",
     "output_type": "stream",
     "text": [
      "[0, 1, 2, 3, 4]\n",
      "[0, 2, 4, 6, 8]\n"
     ]
    }
   ],
   "source": [
    "# List comprehension\n",
    "arr = [i for i in range(5)]\n",
    "print(arr)\n",
    "\n",
    "arr = [i+i for i in range(5)]\n",
    "print(arr)"
   ]
  },
  {
   "cell_type": "code",
   "execution_count": 59,
   "metadata": {},
   "outputs": [
    {
     "name": "stdout",
     "output_type": "stream",
     "text": [
      "[[0, 0, 0, 0], [0, 0, 0, 0], [0, 0, 0, 0], [0, 0, 0, 0]]\n",
      "0 0\n"
     ]
    }
   ],
   "source": [
    "# 2-D lists\n",
    "arr = [[0] * 4 for i in range(4)]\n",
    "print(arr)\n",
    "print(arr[0][0], arr[3][3])"
   ]
  },
  {
   "cell_type": "code",
   "execution_count": 61,
   "metadata": {},
   "outputs": [
    {
     "name": "stdout",
     "output_type": "stream",
     "text": [
      "[[0, 0, 0, 0], [0, 0, 0, 0], [0, 0, 0, 0], [0, 0, 0, 0]]\n"
     ]
    }
   ],
   "source": [
    "# This won't work\n",
    "arr = [[0] * 4] * 4\n",
    "print(arr)"
   ]
  },
  {
   "cell_type": "markdown",
   "metadata": {},
   "source": [
    "# Strings\n",
    "\n"
   ]
  },
  {
   "cell_type": "code",
   "execution_count": 65,
   "metadata": {},
   "outputs": [
    {
     "name": "stdout",
     "output_type": "stream",
     "text": [
      "ab\n",
      "abcdef\n"
     ]
    }
   ],
   "source": [
    "# Strings are similar to arrays\n",
    "s = \"abc\"\n",
    "print(s[0:2])\n",
    "\n",
    "# But they are immutable\n",
    "# s[0] = \"A\"\n",
    "\n",
    "# So this creates a new string\n",
    "s += \"def\"\n",
    "print(s)"
   ]
  },
  {
   "cell_type": "code",
   "execution_count": null,
   "metadata": {},
   "outputs": [
    {
     "name": "stdout",
     "output_type": "stream",
     "text": [
      "246\n",
      "123123\n"
     ]
    }
   ],
   "source": [
    "# Valid numeric strings can be converted\n",
    "print(int(123) + int(123))\n",
    "\n",
    "# And numbers can be converted to strings\n",
    "print(str(123) + str(123))\n",
    "\n"
   ]
  },
  {
   "cell_type": "code",
   "execution_count": 69,
   "metadata": {},
   "outputs": [
    {
     "name": "stdout",
     "output_type": "stream",
     "text": [
      "97\n",
      "98\n"
     ]
    }
   ],
   "source": [
    "# # In rare cases you may need the ASCII value\n",
    "# of a char\n",
    "print(ord(\"a\"))\n",
    "print(ord(\"b\"))"
   ]
  },
  {
   "cell_type": "code",
   "execution_count": 73,
   "metadata": {},
   "outputs": [
    {
     "name": "stdout",
     "output_type": "stream",
     "text": [
      "ab cd ef\n"
     ]
    }
   ],
   "source": [
    "# Combine a list of strings (with an empty string\n",
    "# delimitor)\n",
    "strings = [\"ab\", \"cd\", \"ef\"]\n",
    "print(\" \".join(strings))\n"
   ]
  },
  {
   "cell_type": "markdown",
   "metadata": {},
   "source": [
    "# Queues"
   ]
  },
  {
   "cell_type": "code",
   "execution_count": null,
   "metadata": {},
   "outputs": [
    {
     "name": "stdout",
     "output_type": "stream",
     "text": [
      "deque([1, 2])\n",
      "deque([2])\n",
      "deque([1, 2])\n",
      "deque([1])\n"
     ]
    }
   ],
   "source": [
    "# Queues (double ended queue)\n",
    "from collections import deque\n",
    "\n",
    "queue = deque()\n",
    "queue.append(1)\n",
    "queue.append(2)\n",
    "print(queue)\n",
    "\n",
    "queue.popleft()\n",
    "print(queue)\n",
    "\n",
    "queue.appendleft(1)\n",
    "print(queue)\n",
    "\n",
    "queue.pop()\n",
    "print(queue)\n"
   ]
  },
  {
   "cell_type": "markdown",
   "metadata": {},
   "source": [
    "# HashSets"
   ]
  },
  {
   "cell_type": "code",
   "execution_count": 82,
   "metadata": {},
   "outputs": [
    {
     "name": "stdout",
     "output_type": "stream",
     "text": [
      "{1, 2}\n",
      "2\n",
      "True\n",
      "True\n",
      "False\n",
      "False\n"
     ]
    }
   ],
   "source": [
    "#HashSet\n",
    "mySet = set()\n",
    "\n",
    "mySet.add(1)\n",
    "mySet.add(2)\n",
    "print(mySet)\n",
    "print(len(mySet))\n",
    "\n",
    "print(1 in mySet)\n",
    "print(2 in mySet)\n",
    "print(3 in mySet) # does not exist in the HashSet\n",
    "\n",
    "mySet.remove(2)\n",
    "print(2 in mySet)"
   ]
  },
  {
   "cell_type": "code",
   "execution_count": 84,
   "metadata": {},
   "outputs": [
    {
     "name": "stdout",
     "output_type": "stream",
     "text": [
      "{1, 2, 3}\n",
      "{0, 1, 2, 3, 4}\n"
     ]
    }
   ],
   "source": [
    "# list to set\n",
    "print(set([1, 2, 3]))\n",
    "\n",
    "# Set comprehension\n",
    "mySet = {i for i in range(5)}\n",
    "print(mySet)"
   ]
  },
  {
   "cell_type": "markdown",
   "metadata": {},
   "source": [
    "# HashMap"
   ]
  },
  {
   "cell_type": "code",
   "execution_count": 90,
   "metadata": {},
   "outputs": [
    {
     "name": "stdout",
     "output_type": "stream",
     "text": [
      "{'alice': 88, 'sakib-al-hasan': 75, 'branden': 36}\n",
      "80\n",
      "True\n",
      "False\n",
      "{'alice': 98, 'bob': 70}\n"
     ]
    }
   ],
   "source": [
    "# HashMap (dict)\n",
    "myMap = {}\n",
    "myMap[\"alice\"] = 88\n",
    "myMap[\"sakib-al-hasan\"] = 75\n",
    "myMap[\"branden\"] = 36\n",
    "print(myMap)\n",
    "\n",
    "myMap[\"alice\"] = 80\n",
    "print(myMap[\"alice\"])\n",
    "\n",
    "print(\"alice\" in myMap)\n",
    "myMap.pop(\"alice\")\n",
    "print(\"alice\" in myMap)\n",
    "\n",
    "myMap = {\"alice\": 98, \"bob\": 70}\n",
    "print(myMap)"
   ]
  },
  {
   "cell_type": "code",
   "execution_count": 92,
   "metadata": {},
   "outputs": [
    {
     "name": "stdout",
     "output_type": "stream",
     "text": [
      "{0: 0, 1: 2, 2: 4}\n"
     ]
    }
   ],
   "source": [
    "# Dict comprehension\n",
    "myMap = { i:2*i for i in range(3) }\n",
    "print(myMap)"
   ]
  },
  {
   "cell_type": "code",
   "execution_count": 95,
   "metadata": {},
   "outputs": [
    {
     "name": "stdout",
     "output_type": "stream",
     "text": [
      "alice 90\n",
      "bob 70\n",
      "90\n",
      "70\n",
      "alice 90\n",
      "bob 70\n"
     ]
    }
   ],
   "source": [
    "# Looping through maps\n",
    "myMap = {\"alice\": 90, \"bob\": 70}\n",
    "for key in myMap:\n",
    "    print(key, myMap[key])\n",
    "\n",
    "for val in myMap.values():\n",
    "    print(val)\n",
    "\n",
    "for key, val in myMap.items():\n",
    "    print(key, val)"
   ]
  },
  {
   "cell_type": "markdown",
   "metadata": {},
   "source": [
    "# Tuples"
   ]
  },
  {
   "cell_type": "code",
   "execution_count": null,
   "metadata": {},
   "outputs": [
    {
     "name": "stdout",
     "output_type": "stream",
     "text": [
      "(1, 2, 3)\n",
      "1\n",
      "3\n"
     ]
    }
   ],
   "source": [
    "# Tuples are like arrays but immutable\n",
    "tup = (1, 2, 3)\n",
    "print(tup)\n",
    "print(tup[0])\n",
    "print(tup[-1])\n",
    "\n",
    "# Can't modify\n",
    "tup[0] = 0 "
   ]
  },
  {
   "cell_type": "code",
   "execution_count": null,
   "metadata": {},
   "outputs": [
    {
     "name": "stdout",
     "output_type": "stream",
     "text": [
      "3\n",
      "True\n"
     ]
    }
   ],
   "source": [
    "# Can be used as key for hash map/set\n",
    "myMap = {(1, 2): 3}\n",
    "print(myMap[(1, 2)])\n",
    "\n",
    "mySet = set()\n",
    "mySet.add((1, 2))\n",
    "print((1, 2) in mySet)\n",
    "\n",
    "# Lists can't be keys\n",
    "# myMap[[3, 4]] = 5"
   ]
  },
  {
   "cell_type": "markdown",
   "metadata": {},
   "source": [
    "# Heaps"
   ]
  },
  {
   "cell_type": "code",
   "execution_count": 102,
   "metadata": {},
   "outputs": [
    {
     "name": "stdout",
     "output_type": "stream",
     "text": [
      "2\n",
      "2\n",
      "3\n",
      "4\n"
     ]
    }
   ],
   "source": [
    "# Heaps\n",
    "import heapq\n",
    "\n",
    "# under the hood are arrays\n",
    "minHeap = []\n",
    "heapq.heappush(minHeap, 3)\n",
    "heapq.heappush(minHeap, 2)\n",
    "heapq.heappush(minHeap, 4)\n",
    "\n",
    "# Min is always at index 0\n",
    "print(minHeap[0])\n",
    "\n",
    "while len(minHeap):\n",
    "    print(heapq.heappop(minHeap))"
   ]
  },
  {
   "cell_type": "code",
   "execution_count": 105,
   "metadata": {},
   "outputs": [
    {
     "name": "stdout",
     "output_type": "stream",
     "text": [
      "4\n",
      "4\n",
      "3\n",
      "2\n"
     ]
    }
   ],
   "source": [
    "# Heaps\n",
    "import heapq\n",
    "\n",
    "# No max heaps by default, work around is\n",
    "# to use min heap and multipy by -1 whrn\n",
    "# push & pop\n",
    "maxHeap = []\n",
    "heapq.heappush(maxHeap, -3)\n",
    "heapq.heappush(maxHeap, -2)\n",
    "heapq.heappush(maxHeap, -4)\n",
    "\n",
    "# Max is always at index 0\n",
    "print(-1 * maxHeap[0])\n",
    "\n",
    "while len(maxHeap):\n",
    "    print(-1 * heapq.heappop(maxHeap))\n",
    "\n",
    " "
   ]
  },
  {
   "cell_type": "code",
   "execution_count": 106,
   "metadata": {},
   "outputs": [
    {
     "name": "stdout",
     "output_type": "stream",
     "text": [
      "1\n",
      "2\n",
      "4\n",
      "5\n",
      "8\n"
     ]
    }
   ],
   "source": [
    "import heapq\n",
    "\n",
    "# Build heap from initial values\n",
    "arr = [2, 1, 8, 4, 5]\n",
    "heapq.heapify(arr)\n",
    "while arr:\n",
    "    print(heapq.heappop(arr))"
   ]
  },
  {
   "cell_type": "markdown",
   "metadata": {},
   "source": [
    "# Functions"
   ]
  },
  {
   "cell_type": "code",
   "execution_count": 108,
   "metadata": {},
   "outputs": [
    {
     "name": "stdout",
     "output_type": "stream",
     "text": [
      "12\n",
      "abc\n"
     ]
    }
   ],
   "source": [
    "def myFunc(n, m):\n",
    "    return n * m\n",
    "\n",
    "print(myFunc(3, 4))\n",
    "\n",
    "# Nested functions have access to outer variables\n",
    "def outer(a, b):\n",
    "    c = \"c\"\n",
    "\n",
    "    def inner():\n",
    "        return a + b + c\n",
    "    return inner()\n",
    "\n",
    "print(outer(\"a\", \"b\"))"
   ]
  },
  {
   "cell_type": "code",
   "execution_count": 114,
   "metadata": {},
   "outputs": [
    {
     "name": "stdout",
     "output_type": "stream",
     "text": [
      "[2, 4] 6\n"
     ]
    }
   ],
   "source": [
    "# Can modify objects but not reassign\n",
    "# unless using nonlocal keyword\n",
    "def double(arr, val):\n",
    "    def helper():\n",
    "        # Modifying array works\n",
    "        for i, n in enumerate(arr):\n",
    "            arr[i] *= 2\n",
    "        \n",
    "        # will only modify val in the helper scope\n",
    "        # val *= 2\n",
    "\n",
    "        # this will modify val outside helper scope\n",
    "        nonlocal val \n",
    "        val *= 2\n",
    "    helper()\n",
    "    print(arr, val)\n",
    "\n",
    "nums = [1, 2]\n",
    "val = 3\n",
    "double(nums, val)\n"
   ]
  },
  {
   "cell_type": "markdown",
   "metadata": {},
   "source": [
    "# Classes"
   ]
  },
  {
   "cell_type": "code",
   "execution_count": 117,
   "metadata": {},
   "outputs": [
    {
     "name": "stdout",
     "output_type": "stream",
     "text": [
      "3\n",
      "6\n"
     ]
    }
   ],
   "source": [
    "class MyClass:\n",
    "    # Constructor\n",
    "    def __init__(self, nums):\n",
    "        # Create member variables\n",
    "        self.nums = nums\n",
    "        self.size = len(nums)\n",
    "    \n",
    "    # self key word required as param\n",
    "    def getLength(self):\n",
    "        return self.size\n",
    "\n",
    "    def getDoubleLength(self):\n",
    "        return 2 * self.getLength()\n",
    "\n",
    "myObj = MyClass([1, 2, 3])\n",
    "print(myObj.getLength())\n",
    "print(myObj.getDoubleLength())\n"
   ]
  }
 ],
 "metadata": {
  "kernelspec": {
   "display_name": "Python 3",
   "language": "python",
   "name": "python3"
  },
  "language_info": {
   "codemirror_mode": {
    "name": "ipython",
    "version": 3
   },
   "file_extension": ".py",
   "mimetype": "text/x-python",
   "name": "python",
   "nbconvert_exporter": "python",
   "pygments_lexer": "ipython3",
   "version": "3.13.1"
  }
 },
 "nbformat": 4,
 "nbformat_minor": 2
}
